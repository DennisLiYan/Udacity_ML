{
 "cells": [
  {
   "cell_type": "markdown",
   "metadata": {},
   "source": [
    "# 文档归类课题报告\n",
    "## 问题的定义\n",
    "### 项目概述\n",
    "文档分类是一个信息科学或者计算机科学领域内的课题,目标是能够将一个文档归为一类或者多类，可以通过人工或者算法的方式来实现。在这个课题中文档的内容由文本组成，分类的依据主要是根据文档的内容。<br>\n",
    "在项目中主要使用算法来解决文档分类问题，所使用的算法主要是机器学习中的算法。包括Naive Bayes、Decision Tree、SVM、CNN等。在项目中所使用的数据集为[20 Newsgroups](http://www.qwone.com/~jason/20Newsgroups/),数据集中一共有20个分类，近2万篇文章。\n",
    "### 问题陈述\n",
    "文档分类属于多分类问题，需要根据输入的文章内容将文章准确的归为某一类别。在这个项目中一共有20个类别，每个文章只能从属于一个类别。\n",
    "开始阶段将会对数据集进行分析，包括样本的数量以及分布，文档内容的一些特点。在熟悉完数据之后将会对文章进行一些清洗工作，去除干扰的特征项目，然后进行特征的提取、选择并且将处理好的特征输入到不同的模型当中进行训练与验证。\n",
    "为了提高模型迭代的效率以及泛化能力，将数据分为训练集、验证集、测试集三个部分。按照9:1的比例划分数据，最后的1/10作为最终验证模型的测试数据，然后按照8:2的比例将剩余9/10的数据划分为训练集和验证集合。\n",
    "### 评价指标\n",
    "最后我们将会从两个维度来衡量模型：\n",
    "- 准确率：$ accuracy = \\sum_{i=1}^n I(y_i = y) / n $\n",
    "(分类正确率的文档数除以总文档数)\n",
    "- 时间：时间分为训练耗时和预测耗时。"
   ]
  },
  {
   "cell_type": "markdown",
   "metadata": {},
   "source": [
    "## 数据的探索"
   ]
  },
  {
   "cell_type": "code",
   "execution_count": 2,
   "metadata": {
    "collapsed": true
   },
   "outputs": [],
   "source": [
    "from imp import  reload\n",
    "from helper import to_sequence_by_w2v,get_doc_word_freq\n",
    "from preprocess import *\n",
    "from sklearn.feature_extraction.text import CountVectorizer,TfidfVectorizer\n",
    "from sklearn.model_selection import train_test_split\n",
    "from collections import Counter\n",
    "from tqdm import tqdm_notebook as tn\n",
    "import numpy as np\n",
    "import pandas as pd\n",
    "import math\n",
    "from time import time"
   ]
  },
  {
   "cell_type": "markdown",
   "metadata": {},
   "source": [
    "### 加载数据\n",
    "由打印出的信息可以得出数据一共拥有19997个样本,一共有20个类目。"
   ]
  },
  {
   "cell_type": "code",
   "execution_count": 3,
   "metadata": {},
   "outputs": [
    {
     "name": "stdout",
     "output_type": "stream",
     "text": [
      "total category count: 20\n",
      "train document count:  17997\n",
      "test document count:  2000\n",
      "****************\n",
      "Path: cantaloupe.srv.cs.cmu.edu!magnesium.club.cc.cmu.edu!news.sei.cmu.edu!cis.ohio-state.edu!zaphod.mps.ohio-state.edu!usc!sol.ctr.columbia.edu!destroyer!cs.ubc.ca!bcsystems!bclarke\n",
      "From: bclarke@galaxy.gov.bc.ca\n",
      "Newsgroups: rec.motorcycles\n",
      "Subject: Re: First Bike??\n",
      "Message-ID: <1993Apr20.081942.2307@galaxy.gov.bc.ca>\n",
      "Date: 20 Apr 93 08:19:42 -0700\n",
      "References: <0forqFa00iUzMATnMz@andrew.cmu.edu>\n",
      "Organization: BC Systems Corporation\n",
      "Lines: 8\n",
      "\n",
      "In article <0forqFa00iUzMATnMz@andrew.cmu.edu>, James Leo Belliveau <jbc9+@andrew.cmu.edu> writes:\n",
      ">     I am a serious motorcycle enthusiast without a motorcycle, and to\n",
      "> put it bluntly, it sucks.  I really would like some advice on what would\n",
      "\n",
      "Oh! For a second I thought this was a posting by Ed Green!\n",
      "-- \n",
      "Bruce Clarke       B.C. Environment\n",
      "                   e-mail: bclarke@galaxy.gov.bc.ca\n",
      "\n"
     ]
    }
   ],
   "source": [
    "category= None\n",
    "data = load_data('../data/20_newsgroups', categories = category, shuffle=True, skip_header=False)\n",
    "X_data, X_test, Y_data, Y_test = \\\n",
    "    train_test_split(data['data'], data['labels'], test_size = 0.1, random_state=42)\n",
    "        \n",
    "print ('total category count:', len(data['label_names']))\n",
    "print ('train document count: ', len(X_data))\n",
    "print ('test document count: ', len(X_test))\n",
    "print ('****************')\n",
    "print (X_data[1])"
   ]
  },
  {
   "cell_type": "markdown",
   "metadata": {},
   "source": [
    "### 每个类目的样本分布\n",
    "分别对训练数据和测试数据不同类目的样本分布做统计, 发现大部分的类目样本数量还是比较接近的。"
   ]
  },
  {
   "cell_type": "code",
   "execution_count": 4,
   "metadata": {},
   "outputs": [
    {
     "data": {
      "text/html": [
       "<div>\n",
       "<style scoped>\n",
       "    .dataframe tbody tr th:only-of-type {\n",
       "        vertical-align: middle;\n",
       "    }\n",
       "\n",
       "    .dataframe tbody tr th {\n",
       "        vertical-align: top;\n",
       "    }\n",
       "\n",
       "    .dataframe thead th {\n",
       "        text-align: right;\n",
       "    }\n",
       "</style>\n",
       "<table border=\"1\" class=\"dataframe\">\n",
       "  <thead>\n",
       "    <tr style=\"text-align: right;\">\n",
       "      <th></th>\n",
       "      <th>category</th>\n",
       "      <th>train_doc_count</th>\n",
       "      <th>test_doc_count</th>\n",
       "    </tr>\n",
       "  </thead>\n",
       "  <tbody>\n",
       "    <tr>\n",
       "      <th>7</th>\n",
       "      <td>rec.autos</td>\n",
       "      <td>877</td>\n",
       "      <td>123</td>\n",
       "    </tr>\n",
       "    <tr>\n",
       "      <th>5</th>\n",
       "      <td>comp.windows.x</td>\n",
       "      <td>884</td>\n",
       "      <td>116</td>\n",
       "    </tr>\n",
       "    <tr>\n",
       "      <th>16</th>\n",
       "      <td>talk.politics.guns</td>\n",
       "      <td>884</td>\n",
       "      <td>116</td>\n",
       "    </tr>\n",
       "    <tr>\n",
       "      <th>13</th>\n",
       "      <td>sci.med</td>\n",
       "      <td>887</td>\n",
       "      <td>113</td>\n",
       "    </tr>\n",
       "    <tr>\n",
       "      <th>10</th>\n",
       "      <td>rec.sport.hockey</td>\n",
       "      <td>890</td>\n",
       "      <td>110</td>\n",
       "    </tr>\n",
       "    <tr>\n",
       "      <th>2</th>\n",
       "      <td>comp.os.ms-windows.misc</td>\n",
       "      <td>892</td>\n",
       "      <td>108</td>\n",
       "    </tr>\n",
       "    <tr>\n",
       "      <th>1</th>\n",
       "      <td>comp.graphics</td>\n",
       "      <td>897</td>\n",
       "      <td>103</td>\n",
       "    </tr>\n",
       "    <tr>\n",
       "      <th>11</th>\n",
       "      <td>sci.crypt</td>\n",
       "      <td>898</td>\n",
       "      <td>102</td>\n",
       "    </tr>\n",
       "    <tr>\n",
       "      <th>12</th>\n",
       "      <td>sci.electronics</td>\n",
       "      <td>899</td>\n",
       "      <td>101</td>\n",
       "    </tr>\n",
       "    <tr>\n",
       "      <th>18</th>\n",
       "      <td>talk.politics.misc</td>\n",
       "      <td>899</td>\n",
       "      <td>101</td>\n",
       "    </tr>\n",
       "    <tr>\n",
       "      <th>19</th>\n",
       "      <td>talk.religion.misc</td>\n",
       "      <td>901</td>\n",
       "      <td>99</td>\n",
       "    </tr>\n",
       "    <tr>\n",
       "      <th>15</th>\n",
       "      <td>soc.religion.christian</td>\n",
       "      <td>902</td>\n",
       "      <td>95</td>\n",
       "    </tr>\n",
       "    <tr>\n",
       "      <th>6</th>\n",
       "      <td>misc.forsale</td>\n",
       "      <td>902</td>\n",
       "      <td>98</td>\n",
       "    </tr>\n",
       "    <tr>\n",
       "      <th>3</th>\n",
       "      <td>comp.sys.ibm.pc.hardware</td>\n",
       "      <td>905</td>\n",
       "      <td>95</td>\n",
       "    </tr>\n",
       "    <tr>\n",
       "      <th>0</th>\n",
       "      <td>alt.atheism</td>\n",
       "      <td>908</td>\n",
       "      <td>92</td>\n",
       "    </tr>\n",
       "    <tr>\n",
       "      <th>4</th>\n",
       "      <td>comp.sys.mac.hardware</td>\n",
       "      <td>910</td>\n",
       "      <td>90</td>\n",
       "    </tr>\n",
       "    <tr>\n",
       "      <th>17</th>\n",
       "      <td>talk.politics.mideast</td>\n",
       "      <td>910</td>\n",
       "      <td>90</td>\n",
       "    </tr>\n",
       "    <tr>\n",
       "      <th>8</th>\n",
       "      <td>rec.motorcycles</td>\n",
       "      <td>915</td>\n",
       "      <td>85</td>\n",
       "    </tr>\n",
       "    <tr>\n",
       "      <th>14</th>\n",
       "      <td>sci.space</td>\n",
       "      <td>915</td>\n",
       "      <td>85</td>\n",
       "    </tr>\n",
       "    <tr>\n",
       "      <th>9</th>\n",
       "      <td>rec.sport.baseball</td>\n",
       "      <td>922</td>\n",
       "      <td>78</td>\n",
       "    </tr>\n",
       "  </tbody>\n",
       "</table>\n",
       "</div>"
      ],
      "text/plain": [
       "                    category  train_doc_count  test_doc_count\n",
       "7                  rec.autos              877             123\n",
       "5             comp.windows.x              884             116\n",
       "16        talk.politics.guns              884             116\n",
       "13                   sci.med              887             113\n",
       "10          rec.sport.hockey              890             110\n",
       "2    comp.os.ms-windows.misc              892             108\n",
       "1              comp.graphics              897             103\n",
       "11                 sci.crypt              898             102\n",
       "12           sci.electronics              899             101\n",
       "18        talk.politics.misc              899             101\n",
       "19        talk.religion.misc              901              99\n",
       "15    soc.religion.christian              902              95\n",
       "6               misc.forsale              902              98\n",
       "3   comp.sys.ibm.pc.hardware              905              95\n",
       "0                alt.atheism              908              92\n",
       "4      comp.sys.mac.hardware              910              90\n",
       "17     talk.politics.mideast              910              90\n",
       "8            rec.motorcycles              915              85\n",
       "14                 sci.space              915              85\n",
       "9         rec.sport.baseball              922              78"
      ]
     },
     "metadata": {},
     "output_type": "display_data"
    },
    {
     "data": {
      "image/png": "[encoded data removed]",
      "text/plain": [
       "<matplotlib.figure.Figure at 0x11fb40cf8>"
      ]
     },
     "metadata": {},
     "output_type": "display_data"
    }
   ],
   "source": [
    "train_category_counter = dict()\n",
    "for index, name in enumerate(data['label_names']):\n",
    "    labels = np.asarray(Y_data)\n",
    "    train_category_counter[name] = len(labels[labels == index])\n",
    "df_cate_count = pd.DataFrame([i for i in train_category_counter.items()],columns=['category', 'train_doc_count'])\n",
    "\n",
    "test_category_counter = dict()\n",
    "for index, name in enumerate(data['label_names']):\n",
    "    labels = np.asarray(Y_test)\n",
    "    test_category_counter[name] = len(labels[labels == index])\n",
    "t = pd.DataFrame([i for i in test_category_counter.items()],columns=['category', 'test_doc_count'])\n",
    "df_cate_count = pd.merge(left=df_cate_count, right=t, on='category', how='inner')  \n",
    "display (df_cate_count.sort_values(by = ['train_doc_count', 'test_doc_count']))\n",
    "\n",
    "category_counter = np.asarray(sorted(train_category_counter.items(), key = itemgetter(1)))\n",
    "index = [0,1,10,11,18,19]\n",
    "fig, ax = plt.subplots(nrows=2, figsize=(12,8))\n",
    "ax[0].bar([i[0] for i in category_counter[index]], height = [int(i[1]) for i in category_counter[index]])\n",
    "ax[0].set_title('train data category sample counts')\n",
    "\n",
    "category_counter = np.asarray(sorted(test_category_counter.items(), key = itemgetter(1)))\n",
    "index = [0,1,10,11,18,19]\n",
    "ax[1].bar([i[0] for i in category_counter[index]], height = [int(i[1]) for i in category_counter[index]])\n",
    "ax[1].set_title('test data category sample counts')\n",
    "plt.show()"
   ]
  },
  {
   "cell_type": "markdown",
   "metadata": {},
   "source": [
    "上图的table中第一列为类目的名称，第二列和第三列分别统计的是训练集和测试.<br>\n",
    "柱状图表示的是不同类目下的样本个数。"
   ]
  },
  {
   "cell_type": "markdown",
   "metadata": {},
   "source": [
    "### 每篇文章的单词数的统计,以及总的词频分布统计\n",
    "分析训练集和测试集样本中的词频分布，最常出现的单词，以及每篇文章中大概含有多少个有效单词。因为后面我们需要对文本特征进行提取，在提取之前了解这些特征的分布情况很有帮助。在项目中使用sklearn的CountVectorizer来进行统计，在当前统计中不做去停止词的操作，同样也不区分大小写。"
   ]
  },
  {
   "cell_type": "code",
   "execution_count": 8,
   "metadata": {
    "collapsed": true
   },
   "outputs": [],
   "source": [
    "def get_doc_word_freq(data):\n",
    "    vectorizer = CountVectorizer()\n",
    "    t = time()\n",
    "    data_array = vectorizer.fit_transform(data)\n",
    "    #print ('step 1 : ', time() - t)\n",
    "    \n",
    "    t = time()\n",
    "    word_list = [word for word,index in sorted(vectorizer.vocabulary_.items(), key=itemgetter(1))]  \n",
    "    #print ('step 2 : ', time() - t)\n",
    "    \n",
    "    t = time()\n",
    "    total_word_count = len(word_list)\n",
    "    words_counter_dict = dict()\n",
    "    data_array = data_array.toarray()\n",
    "    for i in range(0, total_word_count):\n",
    "        words_counter_dict[word_list[i]] = data_array[:,i].sum()\n",
    "    #print ('step 3 : ', time() - t)\n",
    "    \n",
    "    t = time()\n",
    "    doc_words_counter_list = [data_array[j].sum() for j in range(0, data_array.shape[0])]\n",
    "    #print ('step 4 : ', time() - t)\n",
    "    \n",
    "    return doc_words_counter_list, words_counter_dict\n",
    "\n",
    "#print (X_array.shape)\n",
    "#print (X_array[:,0].toarray().shape)"
   ]
  },
  {
   "cell_type": "code",
   "execution_count": 9,
   "metadata": {
    "collapsed": true
   },
   "outputs": [],
   "source": [
    "train_doc_words_count, train_word_counter = get_doc_word_freq(X_data)\n",
    "test_doc_words_count, test_word_counter = get_doc_word_freq(X_test)"
   ]
  },
  {
   "cell_type": "code",
   "execution_count": 11,
   "metadata": {
    "scrolled": false
   },
   "outputs": [
    {
     "name": "stdout",
     "output_type": "stream",
     "text": [
      "train document mean words count :  362.642273712  test document mean words count :  351.005\n",
      "train document max words count  :  22679  test document max words count  :  12875\n",
      "train document min words count  :  54  test document min words count  :  55\n",
      "train total words count :  6526473 test total words count :  702010\n"
     ]
    },
    {
     "data": {
      "image/png": "[encoded data removed]",
      "text/plain": [
       "<matplotlib.figure.Figure at 0x121fa0390>"
      ]
     },
     "metadata": {},
     "output_type": "display_data"
    }
   ],
   "source": [
    "train_doc_words_count = np.asarray(train_doc_words_count)\n",
    "test_doc_words_count = np.asarray(test_doc_words_count)\n",
    "print ('train document mean words count : ', train_doc_words_count.mean(), \n",
    "       ' test document mean words count : ', test_doc_words_count.mean())\n",
    "print ('train document max words count  : ', train_doc_words_count.max(),\n",
    "       ' test document max words count  : ', test_doc_words_count.max())\n",
    "print ('train document min words count  : ', train_doc_words_count.min(),\n",
    "       ' test document min words count  : ', test_doc_words_count.min())\n",
    "train_w =  sorted(train_word_counter.items(), key = itemgetter(1), reverse = True)\n",
    "test_w = sorted(test_word_counter.items(), key = itemgetter(1), reverse = True)\n",
    "print ('train total words count : ', sum([i[1] for i in train_w]),\n",
    "       'test total words count : ', sum([i[1] for i in test_w]))\n",
    "\n",
    "fig, ax = plt.subplots(nrows=3, ncols=2, figsize=(16,15))\n",
    "\n",
    "ax[0,0].bar([i[0] for i in train_w[0:10]], height = [int(i[1]) for i in train_w[0:10]])\n",
    "ax[0,0].set_title('train data most freq word')\n",
    "\n",
    "ax[0,1].bar([i[0] for i in test_w[0:10]], height = [int(i[1]) for i in test_w[0:10]])\n",
    "ax[0,1].set_title('test data most freq word')\n",
    "\n",
    "ax[1,0].hist([math.log(i[1]) for i in train_w], bins=20)\n",
    "ax[1,0].set_title('train data word freq distribution')\n",
    "\n",
    "ax[1,1].hist([math.log(i[1]) for i in test_w], bins=20)\n",
    "ax[1,1].set_title('test data word freq distribution')\n",
    "\n",
    "ax[2,0].hist(train_doc_words_count, bins=20)\n",
    "ax[2,0].set_title('train data document words distribution')\n",
    "\n",
    "ax[2,1].hist(test_doc_words_count, bins=20)\n",
    "ax[2,1].set_title('test data document words distribution')\n",
    "\n",
    "plt.show()"
   ]
  },
  {
   "cell_type": "markdown",
   "metadata": {},
   "source": [
    "由左边的两幅图可以得知最近常出现的几个词大都没有什么具体的含义，在后面特征提取的过程中会当做停止词去掉。<br>\n",
    "由右边的图为词频的分布统计，因为词频相差的太大显示效果比较差，所以对词频做了log处理，显示的时候会更友好一些。由分布可知<br>\n",
    "绝大部分的词语在训练集和测试集只出现过几次，针对这些词可以在后面做特征处理的时候去掉，避免特征太多增加模型的复杂度。"
   ]
  },
  {
   "cell_type": "markdown",
   "metadata": {},
   "source": [
    "### 算法和技术"
   ]
  },
  {
   "cell_type": "markdown",
   "metadata": {},
   "source": [
    "这是一个文本分类问题，首先需要将文本转化为可以量化的特征才能使用机器学习算法进行训练。目前使用非常广泛的算法为TF-IDF的表示方式，其原理\n",
    "是将文章表示为一个词列表，列表中每个词的权重由词频和其所出现的文档数共同决定的。直观上理解就是一个词的词频越高并且在越少的文章中出现则该词的信息量越大，这样的表示方式非常简单且很有效果。但是这种表示丢失了词与词之间的顺序关系，并且不能解决近义词的问题。词向量能很好的解决这个问题，把文章按照其词语出现的顺序和词向量一起组成一个n(词个数)*m(词向量维度)的矩阵也是一个比较好的方式。可以解决顺序和多词意的问题。<br>\n",
    "模型选择上尝试的是SVM、naive bayes和CNN。前两个模型为统计学习方法中的模型，CNN为深度学习的模型，每个模型都有自己的优缺点。<br>\n",
    "SVM:<br>\n",
    "优点：svm会筛选出margin最大的线性分类器，这样的分类器泛化能力最好，并且使用核函数解决数据线性不可分的问题。当训练数据集并不大，并且分布和真实分布近似时效果最好。<br>\n",
    "缺点：svm的模型较复杂，训练的时间较长，同时比较容易出现过拟合的现象。当数据量比较小时容易出现过拟合。当数据集规模较大，模型的训练时间较长，模型的迭代周期会变得很长。<br>\n",
    "naive bayes:<br>\n",
    "优点：快速、易于训练。当训练数据的属性关联性比较弱，离散数据不太稀疏，连续数据符合高斯分布的时候效果最好。<br>\n",
    "缺点：模型较简单，无法处理复杂的数据关系。朴素贝叶斯假设各个变量的关联性很弱，所以当每个feature关联性很强的时候效果很差。<br>\n",
    "CNN:<br>\n",
    "优点：能够提取局部相关的特征，捕捉不同局部的特征，并且最终将这些局部特征汇总起来。<br>\n",
    "缺点：容易过拟合，对机器的性能要求较高，训练时间较长。<br>"
   ]
  },
  {
   "cell_type": "markdown",
   "metadata": {},
   "source": [
    "### 基准模型"
   ]
  },
  {
   "cell_type": "markdown",
   "metadata": {},
   "source": [
    "网络上有很多关于20newsgroup的研究和分类实验，斯坦福大学的正确率大概在85~90%左右。所以在这个项目上模型在测试集上的准确率在需要在90%以上。"
   ]
  },
  {
   "cell_type": "markdown",
   "metadata": {},
   "source": [
    "## 方法"
   ]
  },
  {
   "cell_type": "markdown",
   "metadata": {},
   "source": [
    "### 数据预处理"
   ]
  },
  {
   "cell_type": "markdown",
   "metadata": {},
   "source": [
    "首先将文本中的英文全部转化为小写，因为Hello和hello在字面上是一个意思不应该被当做是两个特征。其次使用NLTK进行词干提取，这样做能够统一单词的单复数形式。去停止词、去除低频词这些操作可以不用在最开始做因为使用的sklearn和keras在文本特征处理的时候都自带去停止词功能，同样也支持文本特征选择和筛选功能非常方便。在该项目中尝试了两种表示文本文章，一种是TF-IDF+词袋模型，另一种是sequence+词向量。下面将分别对这两种方式进行介绍。<br>"
   ]
  },
  {
   "cell_type": "markdown",
   "metadata": {},
   "source": [
    "TF-IDF+词袋模型:<br>\n",
    "一篇文章被表示为一个向量，这个向量由文章中出现的词的TF-IDF值决定。我们使用sklearn来训练文档中的TF-IDF值，在训练完成后文章将被表示为的形式:<br>\n",
    "矩阵的每一行表示一篇文章，每一列表示该单词是否在文中出现，如果出现则使用该单词的tf-idf值来表示，sklearn还会帮我们做归一化的处理。"
   ]
  },
  {
   "cell_type": "code",
   "execution_count": 24,
   "metadata": {},
   "outputs": [
    {
     "data": {
      "text/plain": [
       "array([[ 0.        ,  1.        ,  0.        ,  0.        ,  0.        ],\n",
       "       [ 0.51741994,  0.3935112 ,  0.3935112 ,  0.3935112 ,  0.51741994],\n",
       "       [ 0.        ,  0.        ,  0.70710678,  0.70710678,  0.        ]])"
      ]
     },
     "execution_count": 24,
     "metadata": {},
     "output_type": "execute_result"
    }
   ],
   "source": [
    "TfidfVectorizer().fit_transform(['hello', 'hello do you like Udacity', 'I like Udacity']).toarray()"
   ]
  },
  {
   "cell_type": "markdown",
   "metadata": {},
   "source": [
    "使用词向量表示文章的示例：<br>\n",
    "'this is a great'一共四个单词，最后被表示出来后就有4行，每一行依次代表一个单词，在这个示例中一共有100列因为使用的是100维的词向量。"
   ]
  },
  {
   "cell_type": "code",
   "execution_count": 25,
   "metadata": {
    "scrolled": true
   },
   "outputs": [
    {
     "name": "stdout",
     "output_type": "stream",
     "text": [
      "the shape of document:  (4, 100)\n"
     ]
    },
    {
     "data": {
      "text/html": [
       "<div>\n",
       "<style scoped>\n",
       "    .dataframe tbody tr th:only-of-type {\n",
       "        vertical-align: middle;\n",
       "    }\n",
       "\n",
       "    .dataframe tbody tr th {\n",
       "        vertical-align: top;\n",
       "    }\n",
       "\n",
       "    .dataframe thead th {\n",
       "        text-align: right;\n",
       "    }\n",
       "</style>\n",
       "<table border=\"1\" class=\"dataframe\">\n",
       "  <thead>\n",
       "    <tr style=\"text-align: right;\">\n",
       "      <th></th>\n",
       "      <th>0</th>\n",
       "      <th>1</th>\n",
       "      <th>2</th>\n",
       "      <th>3</th>\n",
       "      <th>4</th>\n",
       "      <th>5</th>\n",
       "      <th>6</th>\n",
       "      <th>7</th>\n",
       "      <th>8</th>\n",
       "      <th>9</th>\n",
       "      <th>...</th>\n",
       "      <th>90</th>\n",
       "      <th>91</th>\n",
       "      <th>92</th>\n",
       "      <th>93</th>\n",
       "      <th>94</th>\n",
       "      <th>95</th>\n",
       "      <th>96</th>\n",
       "      <th>97</th>\n",
       "      <th>98</th>\n",
       "      <th>99</th>\n",
       "    </tr>\n",
       "  </thead>\n",
       "  <tbody>\n",
       "    <tr>\n",
       "      <th>0</th>\n",
       "      <td>-0.570580</td>\n",
       "      <td>0.441830</td>\n",
       "      <td>0.70102</td>\n",
       "      <td>-0.41713</td>\n",
       "      <td>-0.34058</td>\n",
       "      <td>0.02339</td>\n",
       "      <td>-0.071537</td>\n",
       "      <td>0.48177</td>\n",
       "      <td>-0.013121</td>\n",
       "      <td>0.16834</td>\n",
       "      <td>...</td>\n",
       "      <td>-0.085735</td>\n",
       "      <td>-0.105250</td>\n",
       "      <td>-0.515710</td>\n",
       "      <td>0.150380</td>\n",
       "      <td>-0.166940</td>\n",
       "      <td>-0.16372</td>\n",
       "      <td>-0.227020</td>\n",
       "      <td>-0.66102</td>\n",
       "      <td>0.47197</td>\n",
       "      <td>0.37253</td>\n",
       "    </tr>\n",
       "    <tr>\n",
       "      <th>1</th>\n",
       "      <td>-0.542640</td>\n",
       "      <td>0.414760</td>\n",
       "      <td>1.03220</td>\n",
       "      <td>-0.40244</td>\n",
       "      <td>0.46691</td>\n",
       "      <td>0.21816</td>\n",
       "      <td>-0.074864</td>\n",
       "      <td>0.47332</td>\n",
       "      <td>0.080996</td>\n",
       "      <td>-0.22079</td>\n",
       "      <td>...</td>\n",
       "      <td>-0.325280</td>\n",
       "      <td>-0.134600</td>\n",
       "      <td>-0.413140</td>\n",
       "      <td>0.334350</td>\n",
       "      <td>-0.007241</td>\n",
       "      <td>0.32253</td>\n",
       "      <td>-0.044219</td>\n",
       "      <td>-1.29690</td>\n",
       "      <td>0.76217</td>\n",
       "      <td>0.46349</td>\n",
       "    </tr>\n",
       "    <tr>\n",
       "      <th>2</th>\n",
       "      <td>-0.270860</td>\n",
       "      <td>0.044006</td>\n",
       "      <td>-0.02026</td>\n",
       "      <td>-0.17395</td>\n",
       "      <td>0.64440</td>\n",
       "      <td>0.71213</td>\n",
       "      <td>0.355100</td>\n",
       "      <td>0.47138</td>\n",
       "      <td>-0.296370</td>\n",
       "      <td>0.54427</td>\n",
       "      <td>...</td>\n",
       "      <td>0.572010</td>\n",
       "      <td>0.088945</td>\n",
       "      <td>-0.425320</td>\n",
       "      <td>-0.018253</td>\n",
       "      <td>-0.079995</td>\n",
       "      <td>-0.28581</td>\n",
       "      <td>-0.010890</td>\n",
       "      <td>-0.49230</td>\n",
       "      <td>0.63687</td>\n",
       "      <td>0.23642</td>\n",
       "    </tr>\n",
       "    <tr>\n",
       "      <th>3</th>\n",
       "      <td>-0.013786</td>\n",
       "      <td>0.382160</td>\n",
       "      <td>0.53236</td>\n",
       "      <td>0.15261</td>\n",
       "      <td>-0.29694</td>\n",
       "      <td>-0.20558</td>\n",
       "      <td>-0.418460</td>\n",
       "      <td>-0.58437</td>\n",
       "      <td>-0.773550</td>\n",
       "      <td>-0.87866</td>\n",
       "      <td>...</td>\n",
       "      <td>-0.101460</td>\n",
       "      <td>-0.263010</td>\n",
       "      <td>-0.061707</td>\n",
       "      <td>0.366270</td>\n",
       "      <td>-0.952230</td>\n",
       "      <td>-0.39346</td>\n",
       "      <td>-0.691830</td>\n",
       "      <td>-1.04260</td>\n",
       "      <td>0.28855</td>\n",
       "      <td>0.63056</td>\n",
       "    </tr>\n",
       "  </tbody>\n",
       "</table>\n",
       "<p>4 rows × 100 columns</p>\n",
       "</div>"
      ],
      "text/plain": [
       "         0         1        2        3        4        5         6        7   \\\n",
       "0 -0.570580  0.441830  0.70102 -0.41713 -0.34058  0.02339 -0.071537  0.48177   \n",
       "1 -0.542640  0.414760  1.03220 -0.40244  0.46691  0.21816 -0.074864  0.47332   \n",
       "2 -0.270860  0.044006 -0.02026 -0.17395  0.64440  0.71213  0.355100  0.47138   \n",
       "3 -0.013786  0.382160  0.53236  0.15261 -0.29694 -0.20558 -0.418460 -0.58437   \n",
       "\n",
       "         8        9    ...           90        91        92        93  \\\n",
       "0 -0.013121  0.16834   ...    -0.085735 -0.105250 -0.515710  0.150380   \n",
       "1  0.080996 -0.22079   ...    -0.325280 -0.134600 -0.413140  0.334350   \n",
       "2 -0.296370  0.54427   ...     0.572010  0.088945 -0.425320 -0.018253   \n",
       "3 -0.773550 -0.87866   ...    -0.101460 -0.263010 -0.061707  0.366270   \n",
       "\n",
       "         94       95        96       97       98       99  \n",
       "0 -0.166940 -0.16372 -0.227020 -0.66102  0.47197  0.37253  \n",
       "1 -0.007241  0.32253 -0.044219 -1.29690  0.76217  0.46349  \n",
       "2 -0.079995 -0.28581 -0.010890 -0.49230  0.63687  0.23642  \n",
       "3 -0.952230 -0.39346 -0.691830 -1.04260  0.28855  0.63056  \n",
       "\n",
       "[4 rows x 100 columns]"
      ]
     },
     "execution_count": 25,
     "metadata": {},
     "output_type": "execute_result"
    }
   ],
   "source": [
    "d = to_sequence_by_w2v('this is a great')\n",
    "print ('the shape of document: ', d.shape)\n",
    "pd.DataFrame(d)"
   ]
  },
  {
   "cell_type": "markdown",
   "metadata": {},
   "source": [
    "### 执行过程"
   ]
  },
  {
   "cell_type": "markdown",
   "metadata": {},
   "source": [
    "首先加载数据，并且将数据按照9:1的比例划分数据，最后的1/10作为最终验证模型的测试数据，然后按照8:2的比例将剩余9/10的数据划分为训练集和验证集合"
   ]
  },
  {
   "cell_type": "code",
   "execution_count": 134,
   "metadata": {
    "collapsed": true
   },
   "outputs": [],
   "source": [
    "category = None\n",
    "data = load_data('../data/20_newsgroups', categories = category, shuffle=True, skip_header=False)\n",
    "X_data, X_test_text, Y_data, Y_test = \\\n",
    "    train_test_split(data['data'], data['labels'], test_size = 0.1, random_state=42)\n",
    "X_train_text, X_develop_text, Y_train, Y_develop = train_test_split(X_data, Y_data, test_size = 0.2, random_state=42)\n",
    "\n",
    "tfidf = TfidfVectorizer()\n",
    "X_train = tfidf.fit_transform(X_train_text)\n",
    "X_develop = tfidf.transform(X_develop_text)"
   ]
  },
  {
   "cell_type": "markdown",
   "metadata": {},
   "source": [
    "#### 基准模型\n",
    "使用naive bayes和svm测试一下基准模型的准确率"
   ]
  },
  {
   "cell_type": "code",
   "execution_count": 135,
   "metadata": {
    "collapsed": true
   },
   "outputs": [],
   "source": [
    "def bechmodel(clf):\n",
    "    t = time()\n",
    "    clf.fit(X_train, Y_train)\n",
    "    train_time = time() - t\n",
    "    t = time()\n",
    "    preds = clf.predict(X_develop)\n",
    "    pred_time = time() - t\n",
    "    accuracy = accuracy_score(Y_develop, preds)\n",
    "    return accuracy, train_time, pred_time"
   ]
  },
  {
   "cell_type": "code",
   "execution_count": 136,
   "metadata": {},
   "outputs": [
    {
     "name": "stdout",
     "output_type": "stream",
     "text": [
      "MultinomialNB accuracy : 0.8864, train_time : 0.29s, pred_time : 0.04s\n",
      "LinearSVC accuracy : 0.9394, train_time : 3.44s, pred_time : 0.02s\n"
     ]
    }
   ],
   "source": [
    "from sklearn.naive_bayes import MultinomialNB\n",
    "print ('MultinomialNB accuracy : %0.4f, train_time : %0.2fs, pred_time : %0.2fs' % (bechmodel(MultinomialNB())))\n",
    "print ('LinearSVC accuracy : %0.4f, train_time : %0.2fs, pred_time : %0.2fs' % (bechmodel(LinearSVC(random_state=42))))"
   ]
  },
  {
   "cell_type": "markdown",
   "metadata": {},
   "source": [
    "经过试验发现使用naive bayes不做任何优化已经可以达到89%的正确率,svm正确率达到的94%,效果看起来很不错。"
   ]
  },
  {
   "cell_type": "markdown",
   "metadata": {
    "collapsed": true
   },
   "source": [
    "#### 模型调优\n",
    "由之前的词频统计信息可以发现，大部分出现很频繁的词语并没有太多的含义，这部分词语可以被当做停止词去除掉。去去除掉停止词后发现模型的正确率有了提升，并且训练时间也减少了"
   ]
  },
  {
   "cell_type": "code",
   "execution_count": 137,
   "metadata": {},
   "outputs": [
    {
     "name": "stdout",
     "output_type": "stream",
     "text": [
      "MultinomialNB accuracy : 0.8994, train_time : 0.26s, pred_time : 0.04s\n",
      "LinearSVC accuracy : 0.9394, train_time : 3.35s, pred_time : 0.02s\n"
     ]
    }
   ],
   "source": [
    "tfidf = TfidfVectorizer(stop_words='english')\n",
    "X_train = tfidf.fit_transform(X_train_text)\n",
    "X_develop = tfidf.transform(X_develop_text)\n",
    "print ('MultinomialNB accuracy : %0.4f, train_time : %0.2fs, pred_time : %0.2fs' % (bechmodel(MultinomialNB())))\n",
    "print ('LinearSVC accuracy : %0.4f, train_time : %0.2fs, pred_time : %0.2fs' % (bechmodel(LinearSVC(random_state=42))))"
   ]
  },
  {
   "cell_type": "markdown",
   "metadata": {},
   "source": [
    "为了提升模型的调参效率，这里使用sklearn的GridSearch来进行模型的参数调整"
   ]
  },
  {
   "cell_type": "code",
   "execution_count": 41,
   "metadata": {},
   "outputs": [
    {
     "data": {
      "text/plain": [
       "{'clf__max_iter': 1000,\n",
       " 'clf__tol': 0.001,\n",
       " 'selectk__k': 10000,\n",
       " 'tfidf__stop_words': 'english',\n",
       " 'tfidf__sublinear_tf': True}"
      ]
     },
     "execution_count": 41,
     "metadata": {},
     "output_type": "execute_result"
    }
   ],
   "source": [
    "from sklearn.grid_search import GridSearchCV\n",
    "from sklearn.feature_selection import SelectKBest\n",
    "from sklearn.feature_selection import chi2\n",
    "pipe =  Pipeline([('tfidf', TfidfVectorizer()),\n",
    "                  ('selectk', SelectKBest(chi2)),\n",
    "                  ('clf', LinearSVC(random_state=42))])\n",
    "parameters = {  \n",
    "    'tfidf__stop_words': ('english', None),\n",
    "    'tfidf__sublinear_tf': (False, True),\n",
    "    'tfidf__stop_words': ('english', None),\n",
    "    'selectk__k': (10000, 50000, 100000),\n",
    "    'clf__tol': (1e-3,1e-4),\n",
    "    'clf__max_iter': (1000, 5000)\n",
    "}  \n",
    "\n",
    "grid_cv = GridSearchCV(pipe, parameters,cv=5)\n",
    "grid_cv.fit(X_train_text, Y_train)\n",
    "grid_cv.best_params_"
   ]
  },
  {
   "cell_type": "markdown",
   "metadata": {},
   "source": [
    "发现使用最参数进行模型训练时，正确率比之前提升了一些达到了95.2%"
   ]
  },
  {
   "cell_type": "code",
   "execution_count": 131,
   "metadata": {},
   "outputs": [
    {
     "name": "stdout",
     "output_type": "stream",
     "text": [
      "pipe accuracy : 0.9517\n"
     ]
    }
   ],
   "source": [
    "pipe = Pipeline([('tfidf', TfidfVectorizer(stop_words = 'english', sublinear_tf=True)),\n",
    "                  ('selectk', SelectKBest(chi2,k=10000)),\n",
    "                  ('clf', LinearSVC(random_state=42, tol=0.001, max_iter=1000))])\n",
    "pipe.fit(X_train_text, Y_train)\n",
    "preds = pipe.predict(X_develop_text)\n",
    "accuracy = accuracy_score(Y_develop, preds)\n",
    "print ('pipe accuracy : %0.4f' % (accuracy))"
   ]
  },
  {
   "cell_type": "markdown",
   "metadata": {},
   "source": [
    "#### 深度学习解决文本分类问题"
   ]
  },
  {
   "cell_type": "markdown",
   "metadata": {},
   "source": [
    "之前的机器学习过程中使用的是词袋模型和tfidf来表示文本特征，这种表示方法会造成很大的稀疏性且相似的词语并不会有任何联系，同时也丢失了文本顺序这一个很重要的特征。所以我们使用词向量+sequence来表示文章并且通过CNN神经网络来训练模型。<br>\n",
    "项目中可以使用gensim训练词向量，将wiki百科的英文语料生成一个300维的词向量,实际选择的是使用glove训练好的300维词向量。具体训练和验证过程可以执行keras_clf.py文件,日志文件保存在cnn_log.txt中。"
   ]
  },
  {
   "cell_type": "markdown",
   "metadata": {},
   "source": [
    "以下为迭代次数与验证集正确率的曲线关系,可以发现一共有20次epoch。在第三次epoch的时候就达到了一个比较理想的状态，而且正确率要略高于之前的svm训练方法,但是cnn的训练时间较长，每一个epoch都要600s左右，完整训练一次需要花3.5个小时左右。"
   ]
  },
  {
   "cell_type": "code",
   "execution_count": 133,
   "metadata": {},
   "outputs": [
    {
     "name": "stdout",
     "output_type": "stream",
     "text": [
      "total epoch count:  20\n",
      "total time comsume: 12500s\n"
     ]
    },
    {
     "data": {
      "image/png": "[encoded data removed]",
      "text/plain": [
       "<matplotlib.figure.Figure at 0x12908e518>"
      ]
     },
     "metadata": {},
     "output_type": "display_data"
    }
   ],
   "source": [
    "epoch_accuracys = []\n",
    "train_time_comsume = []\n",
    "with open('./cnn_log.txt') as fp:\n",
    "    for line in fp.readlines():\n",
    "        if (line.find('val_acc') >= 0):\n",
    "            epoch_accuracys.append(float(line.strip('\\n').split(' ')[-1]))\n",
    "            train_time_comsume.append(int(line.strip('\\n').split(' ')[3][:-1]))\n",
    "fig, ax = plt.subplots(nrows=2,figsize=(12,12))\n",
    "print ('total epoch count: ', len(epoch_accuracys))\n",
    "print ('total time comsume: %ds'% sum(epoch_time_comsume))\n",
    "ax[0].plot(np.arange(1, len(epoch_accuracys) + 1,1), epoch_accuracys, 'o-')\n",
    "ax[0].set_xlabel('epochs')\n",
    "ax[0].set_ylabel('val accuracy')\n",
    "ax[0].set_title('training epoch and accuracy')\n",
    "\n",
    "ax[1].bar(np.arange(1, len(epoch_time_comsume) + 1,1), train_time_comsume)\n",
    "ax[1].set_xlabel('epochs')\n",
    "ax[1].set_ylabel('time comsume')\n",
    "ax[1].set_title('training epoch and time comsuming')\n",
    "plt.show()"
   ]
  },
  {
   "cell_type": "markdown",
   "metadata": {},
   "source": [
    "### 结论"
   ]
  },
  {
   "cell_type": "markdown",
   "metadata": {},
   "source": [
    "#### 不同模型之间的对比\n",
    "我们将从训练时间,准确率以及预测时间这几个维度来衡量上面的模型,在验证集上的准确率cnn>svm>bayes,但是训练时间和预测时间上cnn远远大于svm和bayes。所以综合这几个因数来考虑，选用svm作为这个问题的解决方案。并且在测试集上做最终的验证，正确率达到了95%。完成了之前预定的目标。"
   ]
  },
  {
   "cell_type": "code",
   "execution_count": 161,
   "metadata": {},
   "outputs": [
    {
     "name": "stdout",
     "output_type": "stream",
     "text": [
      "accuracy :  0.948\n",
      "                          precision    recall  f1-score   support\n",
      "\n",
      "             alt.atheism       0.78      0.75      0.76        92\n",
      "           comp.graphics       0.97      0.99      0.98       103\n",
      " comp.os.ms-windows.misc       0.95      0.99      0.97       108\n",
      "comp.sys.ibm.pc.hardware       0.98      0.97      0.97        95\n",
      "   comp.sys.mac.hardware       0.99      1.00      0.99        90\n",
      "          comp.windows.x       1.00      0.94      0.97       116\n",
      "            misc.forsale       0.96      0.98      0.97        98\n",
      "               rec.autos       0.98      0.99      0.99       123\n",
      "         rec.motorcycles       1.00      1.00      1.00        85\n",
      "      rec.sport.baseball       1.00      1.00      1.00        78\n",
      "        rec.sport.hockey       1.00      1.00      1.00       110\n",
      "               sci.crypt       1.00      0.99      1.00       102\n",
      "         sci.electronics       0.97      0.96      0.97       101\n",
      "                 sci.med       1.00      0.98      0.99       113\n",
      "               sci.space       0.99      1.00      0.99        85\n",
      "  soc.religion.christian       1.00      1.00      1.00        95\n",
      "      talk.politics.guns       0.96      0.97      0.97       116\n",
      "   talk.politics.mideast       0.98      0.99      0.98        90\n",
      "      talk.politics.misc       0.85      0.79      0.82       101\n",
      "      talk.religion.misc       0.61      0.66      0.63        99\n",
      "\n",
      "             avg / total       0.95      0.95      0.95      2000\n",
      "\n"
     ]
    }
   ],
   "source": [
    "from sklearn.metrics import classification_report\n",
    "preds = pipe.predict(X_test_text)\n",
    "accuracy = accuracy_score(Y_test, preds)\n",
    "print ('accuracy : ', accuracy)\n",
    "print (classification_report(Y_test, preds, target_names=np.asarray(data['label_names'])))"
   ]
  },
  {
   "cell_type": "markdown",
   "metadata": {},
   "source": [
    "### 提高"
   ]
  },
  {
   "cell_type": "markdown",
   "metadata": {},
   "source": [
    "- 每篇文章的开头包含了很多重要的信息，如果去掉文件头的话会发现正确率会下降到86%左右。而在真正的文档分类任务中往往只有文章内容，在项目中还是使用到了文章的开头来提取特征。\n",
    "- EDA应该还有很多优化空间，比如提取词干等。在测试集中可能遇到之前没有出现过的词语，这时候可以做同义词转化等等。\n",
    "- 还可以尝试更多的统计学习方法和深度学习方法。"
   ]
  },
  {
   "cell_type": "markdown",
   "metadata": {},
   "source": [
    "### 引用"
   ]
  },
  {
   "cell_type": "markdown",
   "metadata": {},
   "source": [
    "[1]文档分类的[问题描述](en.wikipedia.org/wiki/Document_classification) <br>\n",
    "[2]sklearn的20newsgroups[官方示例](http://scikit-learn.org/stable/auto_examples/text/document_classification_20newsgroups.html#sphx-glr-auto-examples-text-document-classification-20newsgroups-py)<br>\n",
    "[3]斯坦福glove词向量的[相关资料和数据](https://nlp.stanford.edu/projects/glove/)<br>\n",
    "[4]文章中使用到的20news-19997.tar.gz[数据集](http://qwone.com/~jason/20Newsgroups/)<br>\n",
    "[5]使用词嵌入解决文本分类问题[keras的示例](https://blog.keras.io/using-pre-trained-word-embeddings-in-a-keras-model.html)<br>\n",
    "[6]gensim关于词向量的介绍以及[官方示例](https://radimrehurek.com/gensim/)<br>\n",
    "[7]TF-IDF的[介绍](https://en.wikipedia.org/wiki/Tf%E2%80%93idf)"
   ]
  }
 ],
 "metadata": {
  "kernelspec": {
   "display_name": "Python 3",
   "language": "python",
   "name": "python3"
  },
  "language_info": {
   "codemirror_mode": {
    "name": "ipython",
    "version": 3
   },
   "file_extension": ".py",
   "mimetype": "text/x-python",
   "name": "python",
   "nbconvert_exporter": "python",
   "pygments_lexer": "ipython3",
   "version": "3.6.2"
  }
 },
 "nbformat": 4,
 "nbformat_minor": 2
}
